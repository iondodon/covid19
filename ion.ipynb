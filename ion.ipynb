{
 "cells": [
  {
   "cell_type": "code",
   "execution_count": 3,
   "metadata": {},
   "outputs": [],
   "source": [
    "import numpy as np\n",
    "import pandas as pd\n",
    "import matplotlib.pyplot as plt\n",
    "from datetime import date\n",
    "import math\n",
    "\n",
    "#date, total_cases, new_cases_smoothed, total_deaths, new_deaths_smoothed, reproduction_rate, - Stefan\n",
    "#new_tests_smoothed, positive_rate, total_vaccinations, people_vaccinated, new_vaccinations, new_vaccinations_smoothed, - Ion\n",
    "#stringency_index, population, aged_70_older, gdp_per_capita, extreme_poverty, cardiovascular_death_rate, - Mirela\n",
    "#diabetes_prevelance, female_smokers, male_smokers, handwashind_facilities, hospital_beds_per_thousand, life_expectancy, human_development_index - Dana\n"
   ]
  },
  {
   "cell_type": "code",
   "execution_count": 4,
   "metadata": {},
   "outputs": [],
   "source": [
    "# Jupyter configuration\n",
    "pd.set_option('display.max_rows', 500)"
   ]
  },
  {
   "cell_type": "code",
   "execution_count": 5,
   "metadata": {},
   "outputs": [],
   "source": [
    "dataset = pd.read_csv('owid-covid-data.csv')"
   ]
  },
  {
   "cell_type": "markdown",
   "metadata": {},
   "source": [
    "Separate the data into two datasets"
   ]
  },
  {
   "cell_type": "code",
   "execution_count": 6,
   "metadata": {},
   "outputs": [],
   "source": [
    "moldova_dataset = dataset[dataset['location'] == 'Moldova']\n",
    "moldova_dataset.to_csv('moldova-covid-data.csv')\n",
    "\n",
    "dataset = moldova_dataset"
   ]
  },
  {
   "cell_type": "code",
   "execution_count": 7,
   "metadata": {},
   "outputs": [
    {
     "data": {
      "text/plain": [
       "(604, 65)"
      ]
     },
     "execution_count": 7,
     "metadata": {},
     "output_type": "execute_result"
    }
   ],
   "source": [
    "# The shape of the dataset\n",
    "dataset.shape"
   ]
  },
  {
   "cell_type": "markdown",
   "metadata": {},
   "source": [
    "### Variables description\n",
    "\n",
    "| Variable                             | Description                                                                                                    |\n",
    "|:-------------------------------------|:---------------------------------------------------------------------------------------------------------------|\n",
    "| `icu_patients`                       | Number of COVID-19 patients in intensive care units (ICUs) on a given day                                      |\n",
    "| `icu_patients_per_million`           | Number of COVID-19 patients in intensive care units (ICUs) on a given day per 1,000,000 people                 |\n",
    "| `hosp_patients`                      | Number of COVID-19 patients in hospital on a given day                                                         |\n",
    "| `hosp_patients_per_million`          | Number of COVID-19 patients in hospital on a given day per 1,000,000 people                                    |\n",
    "| `weekly_icu_admissions`              | Number of COVID-19 patients newly admitted to intensive care units (ICUs) in a given week                      |\n",
    "| `weekly_icu_admissions_per_million`  | Number of COVID-19 patients newly admitted to intensive care units (ICUs) in a given week per 1,000,000 people |\n",
    "| `weekly_hosp_admissions`             | Number of COVID-19 patients newly admitted to hospitals in a given week                                        |\n",
    "| `weekly_hosp_admissions_per_million` | Number of COVID-19 patients newly admitted to hospitals in a given week per 1,000,000 people                   |\n",
    "\n",
    "### Policy responses\n",
    "| Variable           | Description                                                                                                                                                                                                         |\n",
    "|:-------------------|:--------------------------------------------------------------------------------------------------------------------------------------------------------------------------------------------------------------------|\n",
    "| `stringency_index` | Government Response Stringency Index: composite measure based on 9 response indicators including school closures, workplace closures, and travel bans, rescaled to a value from 0 to 100 (100 = strictest response) |\n",
    "\n",
    "### Reproduction rate\n",
    "| Variable            | Description                                                                                                                                   |\n",
    "|:--------------------|:----------------------------------------------------------------------------------------------------------------------------------------------|\n",
    "| `reproduction_rate` | Real-time estimate of the effective reproduction rate (R) of COVID-19. See https://github.com/crondonm/TrackingR/tree/main/Estimates-Database |\n",
    "\n",
    "### Tests & positivity\n",
    "| Variable                          | Description                                                                                                                                                                                                                                                                                                          |\n",
    "|:----------------------------------|:---------------------------------------------------------------------------------------------------------------------------------------------------------------------------------------------------------------------------------------------------------------------------------------------------------------------|\n",
    "| `total_tests`                     | Total tests for COVID-19                                                                                                                                                                                                                                                                                             |\n",
    "| `new_tests`                       | New tests for COVID-19 (only calculated for consecutive days)                                                                                                                                                                                                                                                        |\n",
    "| `total_tests_per_thousand`        | Total tests for COVID-19 per 1,000 people                                                                                                                                                                                                                                                                            |\n",
    "| `new_tests_per_thousand`          | New tests for COVID-19 per 1,000 people                                                                                                                                                                                                                                                                              |\n",
    "| `new_tests_smoothed`              | New tests for COVID-19 (7-day smoothed). For countries that don't report testing data on a daily basis, we assume that testing changed equally on a daily basis over any periods in which no data was reported. This produces a complete series of daily figures, which is then averaged over a rolling 7-day window |\n",
    "| `new_tests_smoothed_per_thousand` | New tests for COVID-19 (7-day smoothed) per 1,000 people                                                                                                                                                                                                                                                             |\n",
    "| `positive_rate`                   | The share of COVID-19 tests that are positive, given as a rolling 7-day average (this is the inverse of tests_per_case)                                                                                                                                                                                              |\n",
    "| `tests_per_case`                  | Tests conducted per new confirmed case of COVID-19, given as a rolling 7-day average (this is the inverse of positive_rate)                                                                                                                                                                                          |\n",
    "| `tests_units`                     | Units used by the location to report its testing data "
   ]
  },
  {
   "cell_type": "markdown",
   "metadata": {},
   "source": [
    "Looking at these variables one can observe that for some variables there are pair variables that end wirh 'per_thousand' or 'per_million'. These variables generalize the information regarding the variable that is represented by tehm. We can exclude these variables because they have the same behaviour as the real measurements. For example, icu_patients in a way represents the same information as variable icu_patients_per_million and should have the same behaviour. The variables to be excluded are: \n",
    "\n",
    "* icu_patients_per_million\n",
    "* hosp_patients_per_million\n",
    "* weekly_icu_admissions_per_million\n",
    "* weekly_hosp_admissions_per_million\n",
    "* total_tests_per_thousand\n",
    "* new_tests_per_thousand\n",
    "* new_tests_smoothed\n",
    "* new_tests_smoothed_per_thousand."
   ]
  },
  {
   "cell_type": "code",
   "execution_count": 8,
   "metadata": {},
   "outputs": [],
   "source": [
    "#dataset.drop([\n",
    "#        'icu_patients_per_million',\n",
    "#        'hosp_patients_per_million', \n",
    "#        'weekly_icu_admissions_per_million',\n",
    "#        'weekly_hosp_admissions_per_million',\n",
    "#        'total_tests_per_thousand',\n",
    "#        'new_tests_per_thousand',\n",
    "#        'new_tests_smoothed',\n",
    "#        'new_tests_smoothed_per_thousand'\n",
    "#    ],\n",
    "#    axis='columns',\n",
    "#    inplace=True\n",
    "#)\n",
    "\n",
    "#dataset.shape"
   ]
  },
  {
   "cell_type": "markdown",
   "metadata": {},
   "source": [
    "Select only a subset of variables to work with"
   ]
  },
  {
   "cell_type": "code",
   "execution_count": 9,
   "metadata": {},
   "outputs": [
    {
     "data": {
      "text/plain": [
       "(604, 8)"
      ]
     },
     "execution_count": 9,
     "metadata": {},
     "output_type": "execute_result"
    }
   ],
   "source": [
    "dataset = dataset[[\n",
    "    'location',\n",
    "    'date',\n",
    "    'new_tests_smoothed', \n",
    "    'positive_rate', \n",
    "    'total_vaccinations', \n",
    "    'people_vaccinated', \n",
    "    'new_vaccinations', \n",
    "    'new_vaccinations_smoothed'\n",
    "]]\n",
    "\n",
    "dataset.shape"
   ]
  },
  {
   "cell_type": "code",
   "execution_count": 10,
   "metadata": {},
   "outputs": [
    {
     "data": {
      "text/plain": [
       "['location',\n",
       " 'date',\n",
       " 'new_tests_smoothed',\n",
       " 'positive_rate',\n",
       " 'total_vaccinations',\n",
       " 'people_vaccinated',\n",
       " 'new_vaccinations',\n",
       " 'new_vaccinations_smoothed']"
      ]
     },
     "execution_count": 10,
     "metadata": {},
     "output_type": "execute_result"
    }
   ],
   "source": [
    "# All available variables\n",
    "dataset.columns.tolist()"
   ]
  },
  {
   "cell_type": "code",
   "execution_count": 11,
   "metadata": {},
   "outputs": [
    {
     "name": "stderr",
     "output_type": "stream",
     "text": [
      "/tmp/ipykernel_7354/1142007443.py:2: SettingWithCopyWarning: \n",
      "A value is trying to be set on a copy of a slice from a DataFrame.\n",
      "Try using .loc[row_indexer,col_indexer] = value instead\n",
      "\n",
      "See the caveats in the documentation: https://pandas.pydata.org/pandas-docs/stable/user_guide/indexing.html#returning-a-view-versus-a-copy\n",
      "  dataset['date'] = pd.to_datetime(dataset['date'])\n"
     ]
    }
   ],
   "source": [
    "# Fixing date column datatype\n",
    "dataset['date'] = pd.to_datetime(dataset['date'])"
   ]
  },
  {
   "cell_type": "code",
   "execution_count": 12,
   "metadata": {},
   "outputs": [
    {
     "data": {
      "text/plain": [
       "location                             object\n",
       "date                         datetime64[ns]\n",
       "new_tests_smoothed                  float64\n",
       "positive_rate                       float64\n",
       "total_vaccinations                  float64\n",
       "people_vaccinated                   float64\n",
       "new_vaccinations                    float64\n",
       "new_vaccinations_smoothed           float64\n",
       "dtype: object"
      ]
     },
     "execution_count": 12,
     "metadata": {},
     "output_type": "execute_result"
    }
   ],
   "source": [
    "# Variable types\n",
    "dataset.dtypes"
   ]
  },
  {
   "cell_type": "markdown",
   "metadata": {},
   "source": [
    "#### There are two variables that are not numerical: date and tests_units. "
   ]
  },
  {
   "cell_type": "markdown",
   "metadata": {},
   "source": [
    "### Before dealing with missing values, let's take a look at the head and tail of the resulting dataset. "
   ]
  },
  {
   "cell_type": "code",
   "execution_count": 13,
   "metadata": {},
   "outputs": [
    {
     "data": {
      "text/html": [
       "<div>\n",
       "<style scoped>\n",
       "    .dataframe tbody tr th:only-of-type {\n",
       "        vertical-align: middle;\n",
       "    }\n",
       "\n",
       "    .dataframe tbody tr th {\n",
       "        vertical-align: top;\n",
       "    }\n",
       "\n",
       "    .dataframe thead th {\n",
       "        text-align: right;\n",
       "    }\n",
       "</style>\n",
       "<table border=\"1\" class=\"dataframe\">\n",
       "  <thead>\n",
       "    <tr style=\"text-align: right;\">\n",
       "      <th></th>\n",
       "      <th>location</th>\n",
       "      <th>date</th>\n",
       "      <th>new_tests_smoothed</th>\n",
       "      <th>positive_rate</th>\n",
       "      <th>total_vaccinations</th>\n",
       "      <th>people_vaccinated</th>\n",
       "      <th>new_vaccinations</th>\n",
       "      <th>new_vaccinations_smoothed</th>\n",
       "    </tr>\n",
       "  </thead>\n",
       "  <tbody>\n",
       "    <tr>\n",
       "      <th>75112</th>\n",
       "      <td>Moldova</td>\n",
       "      <td>2020-03-08</td>\n",
       "      <td>NaN</td>\n",
       "      <td>NaN</td>\n",
       "      <td>NaN</td>\n",
       "      <td>NaN</td>\n",
       "      <td>NaN</td>\n",
       "      <td>NaN</td>\n",
       "    </tr>\n",
       "    <tr>\n",
       "      <th>75113</th>\n",
       "      <td>Moldova</td>\n",
       "      <td>2020-03-09</td>\n",
       "      <td>NaN</td>\n",
       "      <td>NaN</td>\n",
       "      <td>NaN</td>\n",
       "      <td>NaN</td>\n",
       "      <td>NaN</td>\n",
       "      <td>NaN</td>\n",
       "    </tr>\n",
       "    <tr>\n",
       "      <th>75114</th>\n",
       "      <td>Moldova</td>\n",
       "      <td>2020-03-10</td>\n",
       "      <td>NaN</td>\n",
       "      <td>NaN</td>\n",
       "      <td>NaN</td>\n",
       "      <td>NaN</td>\n",
       "      <td>NaN</td>\n",
       "      <td>NaN</td>\n",
       "    </tr>\n",
       "    <tr>\n",
       "      <th>75115</th>\n",
       "      <td>Moldova</td>\n",
       "      <td>2020-03-11</td>\n",
       "      <td>NaN</td>\n",
       "      <td>NaN</td>\n",
       "      <td>NaN</td>\n",
       "      <td>NaN</td>\n",
       "      <td>NaN</td>\n",
       "      <td>NaN</td>\n",
       "    </tr>\n",
       "    <tr>\n",
       "      <th>75116</th>\n",
       "      <td>Moldova</td>\n",
       "      <td>2020-03-12</td>\n",
       "      <td>NaN</td>\n",
       "      <td>NaN</td>\n",
       "      <td>NaN</td>\n",
       "      <td>NaN</td>\n",
       "      <td>NaN</td>\n",
       "      <td>NaN</td>\n",
       "    </tr>\n",
       "    <tr>\n",
       "      <th>75117</th>\n",
       "      <td>Moldova</td>\n",
       "      <td>2020-03-13</td>\n",
       "      <td>NaN</td>\n",
       "      <td>NaN</td>\n",
       "      <td>NaN</td>\n",
       "      <td>NaN</td>\n",
       "      <td>NaN</td>\n",
       "      <td>NaN</td>\n",
       "    </tr>\n",
       "    <tr>\n",
       "      <th>75118</th>\n",
       "      <td>Moldova</td>\n",
       "      <td>2020-03-14</td>\n",
       "      <td>NaN</td>\n",
       "      <td>NaN</td>\n",
       "      <td>NaN</td>\n",
       "      <td>NaN</td>\n",
       "      <td>NaN</td>\n",
       "      <td>NaN</td>\n",
       "    </tr>\n",
       "    <tr>\n",
       "      <th>75119</th>\n",
       "      <td>Moldova</td>\n",
       "      <td>2020-03-15</td>\n",
       "      <td>NaN</td>\n",
       "      <td>NaN</td>\n",
       "      <td>NaN</td>\n",
       "      <td>NaN</td>\n",
       "      <td>NaN</td>\n",
       "      <td>NaN</td>\n",
       "    </tr>\n",
       "    <tr>\n",
       "      <th>75120</th>\n",
       "      <td>Moldova</td>\n",
       "      <td>2020-03-16</td>\n",
       "      <td>NaN</td>\n",
       "      <td>NaN</td>\n",
       "      <td>NaN</td>\n",
       "      <td>NaN</td>\n",
       "      <td>NaN</td>\n",
       "      <td>NaN</td>\n",
       "    </tr>\n",
       "    <tr>\n",
       "      <th>75121</th>\n",
       "      <td>Moldova</td>\n",
       "      <td>2020-03-17</td>\n",
       "      <td>NaN</td>\n",
       "      <td>NaN</td>\n",
       "      <td>NaN</td>\n",
       "      <td>NaN</td>\n",
       "      <td>NaN</td>\n",
       "      <td>NaN</td>\n",
       "    </tr>\n",
       "  </tbody>\n",
       "</table>\n",
       "</div>"
      ],
      "text/plain": [
       "      location       date  new_tests_smoothed  positive_rate  \\\n",
       "75112  Moldova 2020-03-08                 NaN            NaN   \n",
       "75113  Moldova 2020-03-09                 NaN            NaN   \n",
       "75114  Moldova 2020-03-10                 NaN            NaN   \n",
       "75115  Moldova 2020-03-11                 NaN            NaN   \n",
       "75116  Moldova 2020-03-12                 NaN            NaN   \n",
       "75117  Moldova 2020-03-13                 NaN            NaN   \n",
       "75118  Moldova 2020-03-14                 NaN            NaN   \n",
       "75119  Moldova 2020-03-15                 NaN            NaN   \n",
       "75120  Moldova 2020-03-16                 NaN            NaN   \n",
       "75121  Moldova 2020-03-17                 NaN            NaN   \n",
       "\n",
       "       total_vaccinations  people_vaccinated  new_vaccinations  \\\n",
       "75112                 NaN                NaN               NaN   \n",
       "75113                 NaN                NaN               NaN   \n",
       "75114                 NaN                NaN               NaN   \n",
       "75115                 NaN                NaN               NaN   \n",
       "75116                 NaN                NaN               NaN   \n",
       "75117                 NaN                NaN               NaN   \n",
       "75118                 NaN                NaN               NaN   \n",
       "75119                 NaN                NaN               NaN   \n",
       "75120                 NaN                NaN               NaN   \n",
       "75121                 NaN                NaN               NaN   \n",
       "\n",
       "       new_vaccinations_smoothed  \n",
       "75112                        NaN  \n",
       "75113                        NaN  \n",
       "75114                        NaN  \n",
       "75115                        NaN  \n",
       "75116                        NaN  \n",
       "75117                        NaN  \n",
       "75118                        NaN  \n",
       "75119                        NaN  \n",
       "75120                        NaN  \n",
       "75121                        NaN  "
      ]
     },
     "execution_count": 13,
     "metadata": {},
     "output_type": "execute_result"
    }
   ],
   "source": [
    "dataset.head(10)"
   ]
  },
  {
   "cell_type": "code",
   "execution_count": 14,
   "metadata": {},
   "outputs": [
    {
     "data": {
      "text/html": [
       "<div>\n",
       "<style scoped>\n",
       "    .dataframe tbody tr th:only-of-type {\n",
       "        vertical-align: middle;\n",
       "    }\n",
       "\n",
       "    .dataframe tbody tr th {\n",
       "        vertical-align: top;\n",
       "    }\n",
       "\n",
       "    .dataframe thead th {\n",
       "        text-align: right;\n",
       "    }\n",
       "</style>\n",
       "<table border=\"1\" class=\"dataframe\">\n",
       "  <thead>\n",
       "    <tr style=\"text-align: right;\">\n",
       "      <th></th>\n",
       "      <th>location</th>\n",
       "      <th>date</th>\n",
       "      <th>new_tests_smoothed</th>\n",
       "      <th>positive_rate</th>\n",
       "      <th>total_vaccinations</th>\n",
       "      <th>people_vaccinated</th>\n",
       "      <th>new_vaccinations</th>\n",
       "      <th>new_vaccinations_smoothed</th>\n",
       "    </tr>\n",
       "  </thead>\n",
       "  <tbody>\n",
       "    <tr>\n",
       "      <th>75706</th>\n",
       "      <td>Moldova</td>\n",
       "      <td>2021-10-23</td>\n",
       "      <td>9845.0</td>\n",
       "      <td>0.169</td>\n",
       "      <td>1485935.0</td>\n",
       "      <td>NaN</td>\n",
       "      <td>2292.0</td>\n",
       "      <td>4220.0</td>\n",
       "    </tr>\n",
       "    <tr>\n",
       "      <th>75707</th>\n",
       "      <td>Moldova</td>\n",
       "      <td>2021-10-24</td>\n",
       "      <td>8890.0</td>\n",
       "      <td>0.184</td>\n",
       "      <td>1486884.0</td>\n",
       "      <td>NaN</td>\n",
       "      <td>949.0</td>\n",
       "      <td>4201.0</td>\n",
       "    </tr>\n",
       "    <tr>\n",
       "      <th>75708</th>\n",
       "      <td>Moldova</td>\n",
       "      <td>2021-10-25</td>\n",
       "      <td>7936.0</td>\n",
       "      <td>0.205</td>\n",
       "      <td>NaN</td>\n",
       "      <td>NaN</td>\n",
       "      <td>NaN</td>\n",
       "      <td>4245.0</td>\n",
       "    </tr>\n",
       "    <tr>\n",
       "      <th>75709</th>\n",
       "      <td>Moldova</td>\n",
       "      <td>2021-10-26</td>\n",
       "      <td>NaN</td>\n",
       "      <td>NaN</td>\n",
       "      <td>1497461.0</td>\n",
       "      <td>NaN</td>\n",
       "      <td>NaN</td>\n",
       "      <td>3517.0</td>\n",
       "    </tr>\n",
       "    <tr>\n",
       "      <th>75710</th>\n",
       "      <td>Moldova</td>\n",
       "      <td>2021-10-27</td>\n",
       "      <td>NaN</td>\n",
       "      <td>NaN</td>\n",
       "      <td>1502791.0</td>\n",
       "      <td>NaN</td>\n",
       "      <td>5330.0</td>\n",
       "      <td>3764.0</td>\n",
       "    </tr>\n",
       "    <tr>\n",
       "      <th>75711</th>\n",
       "      <td>Moldova</td>\n",
       "      <td>2021-10-28</td>\n",
       "      <td>NaN</td>\n",
       "      <td>NaN</td>\n",
       "      <td>1508749.0</td>\n",
       "      <td>NaN</td>\n",
       "      <td>5958.0</td>\n",
       "      <td>4101.0</td>\n",
       "    </tr>\n",
       "    <tr>\n",
       "      <th>75712</th>\n",
       "      <td>Moldova</td>\n",
       "      <td>2021-10-29</td>\n",
       "      <td>NaN</td>\n",
       "      <td>NaN</td>\n",
       "      <td>NaN</td>\n",
       "      <td>NaN</td>\n",
       "      <td>NaN</td>\n",
       "      <td>4266.0</td>\n",
       "    </tr>\n",
       "    <tr>\n",
       "      <th>75713</th>\n",
       "      <td>Moldova</td>\n",
       "      <td>2021-10-30</td>\n",
       "      <td>NaN</td>\n",
       "      <td>NaN</td>\n",
       "      <td>1518261.0</td>\n",
       "      <td>NaN</td>\n",
       "      <td>NaN</td>\n",
       "      <td>4618.0</td>\n",
       "    </tr>\n",
       "    <tr>\n",
       "      <th>75714</th>\n",
       "      <td>Moldova</td>\n",
       "      <td>2021-10-31</td>\n",
       "      <td>NaN</td>\n",
       "      <td>NaN</td>\n",
       "      <td>1520548.0</td>\n",
       "      <td>NaN</td>\n",
       "      <td>2287.0</td>\n",
       "      <td>4809.0</td>\n",
       "    </tr>\n",
       "    <tr>\n",
       "      <th>75715</th>\n",
       "      <td>Moldova</td>\n",
       "      <td>2021-11-01</td>\n",
       "      <td>NaN</td>\n",
       "      <td>NaN</td>\n",
       "      <td>1525820.0</td>\n",
       "      <td>NaN</td>\n",
       "      <td>5272.0</td>\n",
       "      <td>4807.0</td>\n",
       "    </tr>\n",
       "  </tbody>\n",
       "</table>\n",
       "</div>"
      ],
      "text/plain": [
       "      location       date  new_tests_smoothed  positive_rate  \\\n",
       "75706  Moldova 2021-10-23              9845.0          0.169   \n",
       "75707  Moldova 2021-10-24              8890.0          0.184   \n",
       "75708  Moldova 2021-10-25              7936.0          0.205   \n",
       "75709  Moldova 2021-10-26                 NaN            NaN   \n",
       "75710  Moldova 2021-10-27                 NaN            NaN   \n",
       "75711  Moldova 2021-10-28                 NaN            NaN   \n",
       "75712  Moldova 2021-10-29                 NaN            NaN   \n",
       "75713  Moldova 2021-10-30                 NaN            NaN   \n",
       "75714  Moldova 2021-10-31                 NaN            NaN   \n",
       "75715  Moldova 2021-11-01                 NaN            NaN   \n",
       "\n",
       "       total_vaccinations  people_vaccinated  new_vaccinations  \\\n",
       "75706           1485935.0                NaN            2292.0   \n",
       "75707           1486884.0                NaN             949.0   \n",
       "75708                 NaN                NaN               NaN   \n",
       "75709           1497461.0                NaN               NaN   \n",
       "75710           1502791.0                NaN            5330.0   \n",
       "75711           1508749.0                NaN            5958.0   \n",
       "75712                 NaN                NaN               NaN   \n",
       "75713           1518261.0                NaN               NaN   \n",
       "75714           1520548.0                NaN            2287.0   \n",
       "75715           1525820.0                NaN            5272.0   \n",
       "\n",
       "       new_vaccinations_smoothed  \n",
       "75706                     4220.0  \n",
       "75707                     4201.0  \n",
       "75708                     4245.0  \n",
       "75709                     3517.0  \n",
       "75710                     3764.0  \n",
       "75711                     4101.0  \n",
       "75712                     4266.0  \n",
       "75713                     4618.0  \n",
       "75714                     4809.0  \n",
       "75715                     4807.0  "
      ]
     },
     "execution_count": 14,
     "metadata": {},
     "output_type": "execute_result"
    }
   ],
   "source": [
    "dataset.tail(10)"
   ]
  },
  {
   "cell_type": "markdown",
   "metadata": {},
   "source": [
    "All of the numerical variables are represented by `pandas` library as floats64. This is fine because there are a lot of missing values and soon we will replace them with mean or median, depending on the skewness, and these will not be integer numbers. \n",
    "\n",
    "Let's for now take a look at all unique values from the `tests_units` column.\n",
    "\n",
    "This variable since its not numerical, it might have a weak relation to the other numerical variables and will not help much further when the prediction will be made."
   ]
  },
  {
   "cell_type": "code",
   "execution_count": 15,
   "metadata": {},
   "outputs": [
    {
     "name": "stderr",
     "output_type": "stream",
     "text": [
      "/tmp/ipykernel_7354/876448626.py:2: FutureWarning: Dropping of nuisance columns in DataFrame reductions (with 'numeric_only=None') is deprecated; in a future version this will raise TypeError.  Select only valid columns before calling the reduction.\n",
      "  stats_df.loc['skewness'] = dataset.skew();\n",
      "/tmp/ipykernel_7354/876448626.py:3: FutureWarning: Dropping of nuisance columns in DataFrame reductions (with 'numeric_only=None') is deprecated; in a future version this will raise TypeError.  Select only valid columns before calling the reduction.\n",
      "  stats_df.loc['kurtosis'] = dataset.kurt();\n"
     ]
    },
    {
     "data": {
      "text/html": [
       "<div>\n",
       "<style scoped>\n",
       "    .dataframe tbody tr th:only-of-type {\n",
       "        vertical-align: middle;\n",
       "    }\n",
       "\n",
       "    .dataframe tbody tr th {\n",
       "        vertical-align: top;\n",
       "    }\n",
       "\n",
       "    .dataframe thead th {\n",
       "        text-align: right;\n",
       "    }\n",
       "</style>\n",
       "<table border=\"1\" class=\"dataframe\">\n",
       "  <thead>\n",
       "    <tr style=\"text-align: right;\">\n",
       "      <th></th>\n",
       "      <th>new_tests_smoothed</th>\n",
       "      <th>positive_rate</th>\n",
       "      <th>total_vaccinations</th>\n",
       "      <th>people_vaccinated</th>\n",
       "      <th>new_vaccinations</th>\n",
       "      <th>new_vaccinations_smoothed</th>\n",
       "    </tr>\n",
       "  </thead>\n",
       "  <tbody>\n",
       "    <tr>\n",
       "      <th>count</th>\n",
       "      <td>155.000000</td>\n",
       "      <td>155.000000</td>\n",
       "      <td>1.490000e+02</td>\n",
       "      <td>116.000000</td>\n",
       "      <td>112.000000</td>\n",
       "      <td>241.000000</td>\n",
       "    </tr>\n",
       "    <tr>\n",
       "      <th>mean</th>\n",
       "      <td>5682.251613</td>\n",
       "      <td>0.068194</td>\n",
       "      <td>6.475711e+05</td>\n",
       "      <td>285127.801724</td>\n",
       "      <td>8317.625000</td>\n",
       "      <td>6266.286307</td>\n",
       "    </tr>\n",
       "    <tr>\n",
       "      <th>std</th>\n",
       "      <td>1616.964820</td>\n",
       "      <td>0.067061</td>\n",
       "      <td>5.172161e+05</td>\n",
       "      <td>190810.881828</td>\n",
       "      <td>6919.944265</td>\n",
       "      <td>3651.044602</td>\n",
       "    </tr>\n",
       "    <tr>\n",
       "      <th>min</th>\n",
       "      <td>3681.000000</td>\n",
       "      <td>0.009000</td>\n",
       "      <td>3.849000e+03</td>\n",
       "      <td>3849.000000</td>\n",
       "      <td>900.000000</td>\n",
       "      <td>520.000000</td>\n",
       "    </tr>\n",
       "    <tr>\n",
       "      <th>25%</th>\n",
       "      <td>4588.500000</td>\n",
       "      <td>0.015000</td>\n",
       "      <td>1.503840e+05</td>\n",
       "      <td>96111.750000</td>\n",
       "      <td>3290.500000</td>\n",
       "      <td>3651.000000</td>\n",
       "    </tr>\n",
       "    <tr>\n",
       "      <th>50%</th>\n",
       "      <td>5211.000000</td>\n",
       "      <td>0.030000</td>\n",
       "      <td>5.777630e+05</td>\n",
       "      <td>331071.500000</td>\n",
       "      <td>6603.000000</td>\n",
       "      <td>5960.000000</td>\n",
       "    </tr>\n",
       "    <tr>\n",
       "      <th>75%</th>\n",
       "      <td>6097.500000</td>\n",
       "      <td>0.118500</td>\n",
       "      <td>1.034428e+06</td>\n",
       "      <td>458587.000000</td>\n",
       "      <td>10939.500000</td>\n",
       "      <td>8419.000000</td>\n",
       "    </tr>\n",
       "    <tr>\n",
       "      <th>max</th>\n",
       "      <td>12096.000000</td>\n",
       "      <td>0.271000</td>\n",
       "      <td>1.525820e+06</td>\n",
       "      <td>824986.000000</td>\n",
       "      <td>45233.000000</td>\n",
       "      <td>16176.000000</td>\n",
       "    </tr>\n",
       "    <tr>\n",
       "      <th>skewness</th>\n",
       "      <td>1.704139</td>\n",
       "      <td>1.092007</td>\n",
       "      <td>3.945227e-01</td>\n",
       "      <td>0.039349</td>\n",
       "      <td>2.089812</td>\n",
       "      <td>0.672894</td>\n",
       "    </tr>\n",
       "    <tr>\n",
       "      <th>kurtosis</th>\n",
       "      <td>3.366510</td>\n",
       "      <td>0.220778</td>\n",
       "      <td>-1.217733e+00</td>\n",
       "      <td>-1.100604</td>\n",
       "      <td>7.090763</td>\n",
       "      <td>-0.118985</td>\n",
       "    </tr>\n",
       "  </tbody>\n",
       "</table>\n",
       "</div>"
      ],
      "text/plain": [
       "          new_tests_smoothed  positive_rate  total_vaccinations  \\\n",
       "count             155.000000     155.000000        1.490000e+02   \n",
       "mean             5682.251613       0.068194        6.475711e+05   \n",
       "std              1616.964820       0.067061        5.172161e+05   \n",
       "min              3681.000000       0.009000        3.849000e+03   \n",
       "25%              4588.500000       0.015000        1.503840e+05   \n",
       "50%              5211.000000       0.030000        5.777630e+05   \n",
       "75%              6097.500000       0.118500        1.034428e+06   \n",
       "max             12096.000000       0.271000        1.525820e+06   \n",
       "skewness            1.704139       1.092007        3.945227e-01   \n",
       "kurtosis            3.366510       0.220778       -1.217733e+00   \n",
       "\n",
       "          people_vaccinated  new_vaccinations  new_vaccinations_smoothed  \n",
       "count            116.000000        112.000000                 241.000000  \n",
       "mean          285127.801724       8317.625000                6266.286307  \n",
       "std           190810.881828       6919.944265                3651.044602  \n",
       "min             3849.000000        900.000000                 520.000000  \n",
       "25%            96111.750000       3290.500000                3651.000000  \n",
       "50%           331071.500000       6603.000000                5960.000000  \n",
       "75%           458587.000000      10939.500000                8419.000000  \n",
       "max           824986.000000      45233.000000               16176.000000  \n",
       "skewness           0.039349          2.089812                   0.672894  \n",
       "kurtosis          -1.100604          7.090763                  -0.118985  "
      ]
     },
     "execution_count": 15,
     "metadata": {},
     "output_type": "execute_result"
    }
   ],
   "source": [
    "stats_df = dataset.describe();\n",
    "stats_df.loc['skewness'] = dataset.skew();\n",
    "stats_df.loc['kurtosis'] = dataset.kurt();\n",
    "stats_df"
   ]
  },
  {
   "cell_type": "code",
   "execution_count": 16,
   "metadata": {},
   "outputs": [],
   "source": [
    "def get_bins(n):\n",
    "    return int(1 + 3.3 * math.log(n))"
   ]
  },
  {
   "cell_type": "code",
   "execution_count": 17,
   "metadata": {},
   "outputs": [
    {
     "data": {
      "image/png": "[encoded data removed]",
      "text/plain": [
       "<Figure size 2880x720 with 9 Axes>"
      ]
     },
     "metadata": {
      "needs_background": "light"
     },
     "output_type": "display_data"
    }
   ],
   "source": [
    "dataset_size = dataset.shape[0]\n",
    "bins = get_bins(dataset_size)\n",
    "dataset.hist(figsize=(40, 10), bins=bins);"
   ]
  },
  {
   "cell_type": "markdown",
   "metadata": {},
   "source": [
    "### Time series plots"
   ]
  }
 ],
 "metadata": {
  "interpreter": {
   "hash": "31f2aee4e71d21fbe5cf8b01ff0e069b9275f58929596ceb00d14d90e3e16cd6"
  },
  "kernelspec": {
   "display_name": "Python 3.8.10 64-bit",
   "name": "python3"
  },
  "language_info": {
   "codemirror_mode": {
    "name": "ipython",
    "version": 3
   },
   "file_extension": ".py",
   "mimetype": "text/x-python",
   "name": "python",
   "nbconvert_exporter": "python",
   "pygments_lexer": "ipython3",
   "version": "3.9.7"
  },
  "orig_nbformat": 4
 },
 "nbformat": 4,
 "nbformat_minor": 2
}
